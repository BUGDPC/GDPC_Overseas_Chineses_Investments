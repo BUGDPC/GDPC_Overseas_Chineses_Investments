{
 "cells": [
  {
   "cell_type": "markdown",
   "metadata": {
    "collapsed": true,
    "pycharm": {
     "is_executing": false,
     "name": "#%% md\n"
    }
   },
   "source": [
    "This Section Does the database creation; Probably only ever needs to be run once:"
   ]
  },
  {
   "cell_type": "code",
   "execution_count": 2,
   "outputs": [],
   "source": [
    "import couchdb\n",
    "\n",
    "server_url = \"http://localhost:5984/\"\n",
    "new_db_name = \"gdbscrapedresultsfulltext\"\n",
    "remote_server = couchdb.Server(server_url)\n",
    "\n",
    "db = remote_server.create(new_db_name)\n"
   ],
   "metadata": {
    "collapsed": false,
    "pycharm": {
     "name": "#%%\n",
     "is_executing": false
    }
   }
  },
  {
   "cell_type": "markdown",
   "source": [
    "This section does the bulk of the processing."
   ],
   "metadata": {
    "collapsed": false,
    "pycharm": {
     "name": "#%% md\n"
    }
   }
  },
  {
   "cell_type": "code",
   "execution_count": 3,
   "outputs": [],
   "source": [
    "#Test Section\n",
    "import couchdb\n",
    "\n",
    "remote_server = couchdb.Server(url=server_url)\n",
    "write_db_name = \"gdbscrapedresultsfulltext\"\n",
    "write_db = remote_server[write_db_name]\n",
    "\n",
    "loc = write_db.find({\n",
    "                \"selector\": {\n",
    "                  \"record_number\": {\n",
    "                    \"$eq\": \"12345\"\n",
    "                  }\n",
    "                }\n",
    "              })\n",
    "\n"
   ],
   "metadata": {
    "collapsed": false,
    "pycharm": {
     "name": "#%%\n",
     "is_executing": false
    }
   }
  },
  {
   "cell_type": "markdown",
   "source": [
    "This is the main code to pull data:"
   ],
   "metadata": {
    "collapsed": false,
    "pycharm": {
     "name": "#%% md\n",
     "is_executing": true
    }
   }
  },
  {
   "cell_type": "code",
   "execution_count": null,
   "outputs": [],
   "source": [
    "import couchdb\n",
    "\n",
    "from TextScraper import FullTextScraper\n",
    "from lxml.etree import SerialisationError\n",
    "\n",
    "# FullTextScraper.textgetter()\n",
    "server_url = \"http://localhost:5984/\"\n",
    "write_db_name = \"gdbscrapedresultsfulltext\"\n",
    "\n",
    "remote_server = couchdb.Server(url=server_url)\n",
    "db = remote_server['gdbscraperdb']\n",
    "write_db = remote_server[write_db_name]\n",
    "\n",
    "counter = 0\n",
    "for row in db.find({\"selector\": {\"$is_junk\" : { \"$ne\": True } }} ):\n",
    "    # print(row[\"url\"])\n",
    "    url_ = row[\"url\"]\n",
    "    url_ = url_.strip()\n",
    "    url_ = url_[1:]\n",
    "    url_ = url_[:-1]\n",
    "    record_number = row['record_number']\n",
    "    loc = write_db.find({\n",
    "                    \"selector\": {\n",
    "                      \"record_number\": {\n",
    "                        \"$eq\": record_number\n",
    "                      }\n",
    "                    }\n",
    "                  })\n",
    "    #This will continue if we have already pulled this record's url\n",
    "    if len(list(loc)) != 0:\n",
    "        continue\n",
    "    \n",
    "    try:\n",
    "        ret = FullTextScraper.textgetter(url_)\n",
    "    except Exception as e:\n",
    "        print(\"Serialization Error, continuing\" + url_)\n",
    "        d = {\n",
    "                        \"record_number\":record_number,\n",
    "                        \"is_error\":\"true\"\n",
    "                    }\n",
    "        write_db.save(d)\n",
    "        write_db.commit()\n",
    "        continue\n",
    "        \n",
    "    # print(ret)\n",
    "    try:\n",
    "        article_title = ret[\"title\"]\n",
    "    except TypeError as e:\n",
    "        continue\n",
    "    article_url = url_\n",
    "    article_keywords = ret['keywords']\n",
    "    article_summary = ret['summary']\n",
    "    article_text = ret['text']\n",
    "    \n",
    "    d = {\n",
    "                \"record_number\":record_number,\n",
    "                \"title\":article_title,\n",
    "                \"url\":url_,\n",
    "                \"keywords\":article_keywords,\n",
    "                \"summary\":article_summary,\n",
    "                \"text\":article_text\n",
    "            }\n",
    "    try:\n",
    "        write_db.save(d)\n",
    "    except Exception as e:\n",
    "        print(\"some exception\")\n",
    "        print(d)\n",
    "    write_db.commit()\n",
    "\n"
   ],
   "metadata": {
    "collapsed": false,
    "pycharm": {
     "name": "#%%\n"
    }
   }
  }
 ],
 "metadata": {
  "kernelspec": {
   "display_name": "Python 3",
   "language": "python",
   "name": "python3"
  },
  "language_info": {
   "codemirror_mode": {
    "name": "ipython",
    "version": 2
   },
   "file_extension": ".py",
   "mimetype": "text/x-python",
   "name": "python",
   "nbconvert_exporter": "python",
   "pygments_lexer": "ipython2",
   "version": "2.7.6"
  },
  "pycharm": {
   "stem_cell": {
    "cell_type": "raw",
    "source": [],
    "metadata": {
     "collapsed": false
    }
   }
  }
 },
 "nbformat": 4,
 "nbformat_minor": 0
}