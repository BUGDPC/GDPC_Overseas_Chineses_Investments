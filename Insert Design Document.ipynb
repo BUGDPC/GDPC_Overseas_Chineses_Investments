{
 "cells": [
  {
   "cell_type": "code",
   "execution_count": null,
   "metadata": {},
   "outputs": [],
   "source": [
    "import requests\n",
    "import json\n",
    "import couchdb\n",
    "\n",
    "from couchdb import ResourceConflict\n",
    "from hashlib import md5\n",
    "\n",
    "\n",
    "server_url = \"http://localhost:5984/\"\n",
    "endpoint_url = server_url + \"gdbscraperdb/_bulk_docs\"\n",
    "counter = 0\n",
    "couch = couchdb.Server(server_url)\n",
    "db = couch['gdbscraperdb']\n",
    "\n",
    "csv_fh = open('db_dump_all_records.csv', 'r')\n",
    "for line in csv_fh.readlines():\n",
    "    line = line.split(\",\")\n",
    "    url_hash = md5(line[4].encode('utf-8')).hexdigest()\n",
    "    doc = { '_id': url_hash, \n",
    "        'record_number':counter,\n",
    "        'snippet':line[2],\n",
    "        'title':line[3],\n",
    "        'date_record_added':line[0],\n",
    "        'url':line[4],\n",
    "        'term':line[1],\n",
    "        'term_hash':'',\n",
    "        'is_junk':'false',\n",
    "        'rating':'',\n",
    "        'related_project_id':'',\n",
    "        'originating_country':'',\n",
    "        'target_country':'',\n",
    "        'source_company':'',\n",
    "        'project_name':'',\n",
    "        'deal_size':'',\n",
    "        'announced_deal_date':'',\n",
    "        'target_date':'',\n",
    "        'complete_date':''\n",
    "        }\n",
    "    try:\n",
    "        db.save(doc)\n",
    "    except ResourceConflict as e:\n",
    "        pass\n",
    "    counter = counter + 1\n",
    "\n",
    "\n"
   ]
  }
 ],
 "metadata": {
  "kernelspec": {
   "display_name": "Python 3",
   "language": "python",
   "name": "python3"
  },
  "language_info": {
   "codemirror_mode": {
    "name": "ipython",
    "version": 3
   },
   "file_extension": ".py",
   "mimetype": "text/x-python",
   "name": "python",
   "nbconvert_exporter": "python",
   "pygments_lexer": "ipython3",
   "version": "3.8.5"
  }
 },
 "nbformat": 4,
 "nbformat_minor": 2
}
