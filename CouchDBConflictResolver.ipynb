{
 "cells": [
  {
   "cell_type": "markdown",
   "metadata": {
    "collapsed": true,
    "pycharm": {
     "name": "#%% md\n"
    }
   },
   "source": [
    "This does some conflict checking on the database\n",
    "Borrorws from https://forums.couchbase.com/t/delete-array-items-by-comparing-with-another-document-array/17867 and other forums. Not original work."
   ]
  },
  {
   "cell_type": "code",
   "execution_count": null,
   "metadata": {
    "pycharm": {
     "name": "#%%\n"
    }
   },
   "outputs": [],
   "source": [
    "// thsis function takes the list of revisions and removes any deleted or not 'ok' ones.\n",
    "// returns a flat array of document objects\n",
    "var filterList = function(list,excluderev) {\n",
    "  var retval = []\n",
    "  for (var i in list) {\n",
    "    if (list[i].ok && !list[i].ok._deleted) {\n",
    "      if (!excluderev || (excluderev && list[i].ok._rev != excluderev)) {\n",
    "        retval.push(list[i].ok);\n",
    "      }\n",
    "    }\n",
    "  }\n",
    "  return retval;\n",
    "}\n",
    "\n",
    "// convert the incoming array of document to an array of deletions - {_id:\"x\",_rev:\"y\",_deleted:true}\n",
    "var convertToDeletions = function(list) {\n",
    "  var retval = [];\n",
    "  for (var i in list) {\n",
    "    var obj = { _id:list[i]._id, _rev:list[i]._rev, _deleted: true };\n",
    "    retval.push(obj);\n",
    "  }\n",
    "  return retval;\n",
    "}\n",
    "\n",
    "// copy the contents of object b into object a\n",
    "var objmerge = function(a,b) {\n",
    "  for (var i in b) {\n",
    "    if (i != \"_id\" && i != \"_rev\") {\n",
    "      a[i] = b[i];\n",
    "    }\n",
    "  }\n",
    "  return a;\n",
    "}\n",
    "\n",
    "// In a database 'db' (a nano object), that has document with id 'docid', resolve the\n",
    "// conflicts by choosing the revision with the highest field 'fieldname'.\n",
    "var latestWins = function(db, docid, fieldname, callback) {\n",
    "  \n",
    "  // fetch the document with open_revs=all\n",
    "  db.get(docid, {open_revs:'all'}, function(err, data) {\n",
    "    \n",
    "    // return if document isn't there\n",
    "    if (err) {\n",
    "      return callback(\"Document could not be fetched\");\n",
    "    }\n",
    "    \n",
    "    // remove 'deleted' leaf nodes from the list\n",
    "    var doclist = filterList(data);\n",
    "    \n",
    "    // if the there is only <=1 revision left, the document is either deleted \n",
    "    // or not conflcited; either way, we're done\n",
    "    if (doclist.length <= 1) {\n",
    "      return callback(\"Document is not conflicted.\");\n",
    "    }\n",
    "    \n",
    "    // sort the array of documents by the supplied fieldname\n",
    "    // our winner will be the last object in the sorted array\n",
    "    doclist.sort(function(a, b ){ return a[fieldname]-b[fieldname]});\n",
    "    var last=doclist.pop(); // remove the winning revision from the array\n",
    "    \n",
    "    // turn the remaining leaf nodes into deletions\n",
    "    doclist = convertToDeletions(doclist);\n",
    "    \n",
    "    // now we can delete the unwanted revisions \n",
    "    db.bulk({docs: doclist}, callback);\n",
    "    \n",
    "  });\n",
    "};\n",
    "\n",
    "// In a database 'db' (a nano object), that has document with id 'docid', resolve the\n",
    "// conflicts by merging all of the conflicting revisions together(!)\n",
    "var merge = function(db, docid, callback) {\n",
    "  var winner = null;\n",
    "  \n",
    "  // fetch the document to establish the current winning revision\n",
    "  db.get(docid, function(err,data) {\n",
    "    // return if document isn't there\n",
    "    if (err) {\n",
    "      return callback(\"Document could not be fetched\");\n",
    "    }\n",
    "    winner = data;\n",
    "    \n",
    "    // fetch the document with open_revs=all\n",
    "    db.get(docid, {open_revs:'all'}, function(err, data) {\n",
    "    \n",
    "      // remove 'deleted' leaf nodes from the list and the winning revision\n",
    "      var doclist = filterList(data, winner._rev);\n",
    "    \n",
    "      // if the there is only <=1 revision left, the document  not conflcited\n",
    "      if (doclist.length <= 1) {\n",
    "        return callback(\"Document is not conflicted.\");\n",
    "      }\n",
    "      \n",
    "      // merge the losing revisions' contents into the winner's\n",
    "      for(var i in doclist) {\n",
    "        var loser = doclist[i];\n",
    "        winner = objmerge(winner, loser);\n",
    "      }\n",
    "      \n",
    "      // turn the losing leaf nodes into deletions\n",
    "      doclist = convertToDeletions(doclist);\n",
    "      \n",
    "      // add our merged winners\n",
    "      doclist.push(winner);\n",
    "      \n",
    "      // now we can deleted the unwanted revisions and create a new winner\n",
    "      db.bulk({docs: doclist}, callback);\n",
    "    });\n",
    "  });  \n",
    "};\n",
    "\n",
    "\n"
   ]
  }
 ],
 "metadata": {
  "kernelspec": {
   "display_name": "Python 3",
   "language": "python",
   "name": "python3"
  },
  "language_info": {
   "codemirror_mode": {
    "name": "ipython",
    "version": 3
   },
   "file_extension": ".py",
   "mimetype": "text/x-python",
   "name": "python",
   "nbconvert_exporter": "python",
   "pygments_lexer": "ipython3",
   "version": "3.8.5"
  },
  "pycharm": {
   "stem_cell": {
    "cell_type": "raw",
    "metadata": {
     "collapsed": false
    },
    "source": []
   }
  }
 },
 "nbformat": 4,
 "nbformat_minor": 1
}
